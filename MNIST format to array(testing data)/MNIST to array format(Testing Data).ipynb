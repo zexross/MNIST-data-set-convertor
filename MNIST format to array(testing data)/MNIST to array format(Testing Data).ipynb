{
 "cells": [
  {
   "cell_type": "code",
   "execution_count": null,
   "metadata": {},
   "outputs": [],
   "source": [
    "import struct as st\n",
    "import numpy as np"
   ]
  },
  {
   "cell_type": "code",
   "execution_count": null,
   "metadata": {},
   "outputs": [],
   "source": [
    "filename = {'images' : 'E:/Handwritten digit recognisation/dataset/t10k-images-idx3-ubyte' ,'labels' : 'E:/Handwritten digit recognisation/dataset/t10k-labels-idx1-ubyte'}"
   ]
  },
  {
   "cell_type": "code",
   "execution_count": null,
   "metadata": {},
   "outputs": [],
   "source": [
    "Test_imagesfile = open(filename['images'],'rb')"
   ]
  },
  {
   "cell_type": "code",
   "execution_count": null,
   "metadata": {},
   "outputs": [],
   "source": [
    "MagicNumber = st.unpack('>I',Test_imagesfile.read(4))[0]\n",
    "nImg = st.unpack('>I',Test_imagesfile.read(4))[0] #num of images\n",
    "nR = st.unpack('>I',Test_imagesfile.read(4))[0] #num of rows\n",
    "nC = st.unpack('>I',Test_imagesfile.read(4))[0] #num of column\n",
    "print(\"Magic Number : \", MagicNumber)\n",
    "print(\"num of images : \", nImg)\n",
    "print(\"num of rows : \", nR)\n",
    "print(\"num of column : \", nC)\n",
    "\n",
    "images_array = np.zeros((nImg,nR,nC))\n",
    "\n",
    "nBytesTotal = nImg*nR*nC*1 #since each pixel data is 1 byte\n",
    "images_array = np.asarray(st.unpack('>'+'B'*nBytesTotal,Test_imagesfile.read(nBytesTotal))).reshape((nImg,nR,nC))\n",
    "\n",
    "print(\"Size images_array : \",images_array.shape)"
   ]
  },
  {
   "cell_type": "code",
   "execution_count": null,
   "metadata": {},
   "outputs": [],
   "source": [
    "for i in range(0,600):\n",
    "    for j in range(0,28):\n",
    "        for k in range(0,28):\n",
    "            print(images_array[i][j][k],end=\" \")\n",
    "        print(\"\\n\")\n",
    "    print(\"\\n\")"
   ]
  },
  {
   "cell_type": "code",
   "execution_count": null,
   "metadata": {},
   "outputs": [],
   "source": [
    "Test_labelfile = open(filename['labels'],'rb')"
   ]
  },
  {
   "cell_type": "code",
   "execution_count": null,
   "metadata": {},
   "outputs": [],
   "source": [
    "MagicNumber = st.unpack('>I',Test_labelfile.read(4))[0]\n",
    "nlabel = st.unpack('>I',Test_labelfile.read(4))[0] #num of labels\n",
    "print(\"Magic Number : \", MagicNumber)\n",
    "print(\"num of images : \", nlabel)"
   ]
  },
  {
   "cell_type": "code",
   "execution_count": null,
   "metadata": {},
   "outputs": [],
   "source": [
    "label_array = np.zeros((nlabel))\n",
    "\n",
    "nBytesTotal = nlabel*1 #since each pixel data is 1 byte\n",
    "label_array = np.asarray(st.unpack('>'+'B'*nBytesTotal,Test_labelfile.read(nBytesTotal))).reshape((nlabel))\n",
    "\n",
    "\n",
    "print(\"Size images_array : \",len(label_array))"
   ]
  },
  {
   "cell_type": "code",
   "execution_count": null,
   "metadata": {},
   "outputs": [],
   "source": [
    "import matplotlib.pyplot as plt\n",
    "fig = plt.figure(figsize=(28, 28), frameon = True)\n",
    "axis = fig.add_axes([0,0,1,1])\n",
    "#plt.plot(rttax,rttay,'*')\n",
    "plt.plot(images_array[0], 'ro')\n",
    "plt.show()"
   ]
  },
  {
   "cell_type": "code",
   "execution_count": null,
   "metadata": {},
   "outputs": [],
   "source": []
  }
 ],
 "metadata": {
  "kernelspec": {
   "display_name": "Python 3",
   "language": "python",
   "name": "python3"
  },
  "language_info": {
   "codemirror_mode": {
    "name": "ipython",
    "version": 3
   },
   "file_extension": ".py",
   "mimetype": "text/x-python",
   "name": "python",
   "nbconvert_exporter": "python",
   "pygments_lexer": "ipython3",
   "version": "3.7.2"
  }
 },
 "nbformat": 4,
 "nbformat_minor": 2
}
